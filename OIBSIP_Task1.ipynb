{
  "nbformat": 4,
  "nbformat_minor": 0,
  "metadata": {
    "colab": {
      "provenance": []
    },
    "kernelspec": {
      "name": "python3",
      "display_name": "Python 3"
    },
    "language_info": {
      "name": "python"
    }
  },
  "cells": [
    {
      "cell_type": "code",
      "execution_count": 1,
      "metadata": {
        "id": "0RclbXABADaV"
      },
      "outputs": [],
      "source": [
        "import numpy as np\n",
        "import pandas as pd\n",
        "import matplotlib.pyplot as plt"
      ]
    },
    {
      "cell_type": "markdown",
      "source": [
        "Importing Iris Datasets\n"
      ],
      "metadata": {
        "id": "7vPOJ_0lCNfl"
      }
    },
    {
      "cell_type": "code",
      "source": [
        "df=pd.read_csv('/content/Iris.zip')"
      ],
      "metadata": {
        "id": "xAMeWKFlBUmE"
      },
      "execution_count": 3,
      "outputs": []
    },
    {
      "cell_type": "code",
      "source": [
        "df.columns=['Id','SepalLengthCm','SepalWidthCm','PetalLengthCm','PetalWidthCm','Species']"
      ],
      "metadata": {
        "id": "Oc2t20xSBbL9"
      },
      "execution_count": 4,
      "outputs": []
    },
    {
      "cell_type": "code",
      "source": [
        "col_names=list(df.columns)\n",
        "predictors=col_names[0:5]\n",
        "target=col_names[5]"
      ],
      "metadata": {
        "id": "RgcehWQ5BsU9"
      },
      "execution_count": 5,
      "outputs": []
    },
    {
      "cell_type": "code",
      "source": [
        "from sklearn.model_selection import train_test_split\n",
        "train,test=train_test_split(df,test_size=0.3,random_state=0)"
      ],
      "metadata": {
        "id": "S-Tkt_r0BtZL"
      },
      "execution_count": 6,
      "outputs": []
    },
    {
      "cell_type": "markdown",
      "source": [
        "Gaussian Naive Bayes"
      ],
      "metadata": {
        "id": "49V393S0CH7o"
      }
    },
    {
      "cell_type": "code",
      "source": [
        "from sklearn.naive_bayes import GaussianNB\n",
        "Gmodel=GaussianNB()\n",
        "Gmodel.fit(train[predictors],train[target])\n",
        "train_read=Gmodel.predict(train[predictors])\n",
        "test_read=Gmodel.predict(test[predictors])"
      ],
      "metadata": {
        "id": "aYzp797lBwbh"
      },
      "execution_count": 7,
      "outputs": []
    },
    {
      "cell_type": "code",
      "source": [
        "train_accuracy=np.mean(train_read==train[target])\n",
        "test_accuracy=np.mean(test_read==test[target])"
      ],
      "metadata": {
        "id": "7FI3KkvkB05y"
      },
      "execution_count": 8,
      "outputs": []
    },
    {
      "cell_type": "markdown",
      "source": [
        "Accuracy on training"
      ],
      "metadata": {
        "id": "l7IIl51rCT-O"
      }
    },
    {
      "cell_type": "code",
      "source": [
        "train_accuracy"
      ],
      "metadata": {
        "colab": {
          "base_uri": "https://localhost:8080/"
        },
        "id": "SQOd84ujB61k",
        "outputId": "dcb0eac8-f8b7-42a3-a1ae-16e2ef9202cc"
      },
      "execution_count": 9,
      "outputs": [
        {
          "output_type": "execute_result",
          "data": {
            "text/plain": [
              "0.9904761904761905"
            ]
          },
          "metadata": {},
          "execution_count": 9
        }
      ]
    },
    {
      "cell_type": "markdown",
      "source": [
        "Accuracy on testing"
      ],
      "metadata": {
        "id": "ruqYuGtXCZFl"
      }
    },
    {
      "cell_type": "code",
      "source": [
        "test_accuracy"
      ],
      "metadata": {
        "colab": {
          "base_uri": "https://localhost:8080/"
        },
        "id": "wGQQoPm2B7wm",
        "outputId": "515353ff-05a3-47ea-84e4-db1c68c3fd9d"
      },
      "execution_count": 10,
      "outputs": [
        {
          "output_type": "execute_result",
          "data": {
            "text/plain": [
              "1.0"
            ]
          },
          "metadata": {},
          "execution_count": 10
        }
      ]
    }
  ]
}